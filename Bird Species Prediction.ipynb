{
 "cells": [
  {
   "cell_type": "code",
   "execution_count": 2,
   "id": "c8dfa53c",
   "metadata": {},
   "outputs": [],
   "source": [
    "import numpy as np\n",
    "import pandas as pd\n",
    "import matplotlib.pyplot as plt\n",
    "from matplotlib.image import imread\n",
    "import cv2\n",
    "import random\n",
    "import os\n",
    "from os import listdir\n",
    "from PIL import Image\n",
    "from sklearn.preprocessing import LabelBinarizer\n",
    "from tensorflow.keras.utils import img_to_array\n",
    "from keras.optimizers import Adam\n",
    "from keras.models import Sequential\n",
    "from keras.layers import Conv2D, MaxPooling2D, Activation, Flatten, Dropout, Dense\n",
    "from sklearn.model_selection import train_test_split"
   ]
  },
  {
   "cell_type": "code",
   "execution_count": 7,
   "id": "92d2a464",
   "metadata": {},
   "outputs": [
    {
     "data": {
      "text/plain": [
       "['CREAM COLORED WOODPECKER', 'CAMPO FLICKER', 'RUFUOS MOTMOT']"
      ]
     },
     "execution_count": 7,
     "metadata": {},
     "output_type": "execute_result"
    }
   ],
   "source": [
    "dirs = \"train\"\n",
    "root_dir = listdir(dirs)\n",
    "root_dir = root_dir[:3]\n",
    "root_dir"
   ]
  },
  {
   "cell_type": "code",
   "execution_count": 10,
   "id": "9015bd20",
   "metadata": {},
   "outputs": [],
   "source": [
    "X, y = [], []\n",
    "\n",
    "for directory in root_dir:\n",
    "    dir_path = os.path.join(dirs, directory)\n",
    "    if os.path.isdir(dir_path):\n",
    "        for file_name in os.listdir(dir_path):\n",
    "            image_path = os.path.join(dir_path, file_name)\n",
    "            image = cv2.imread(image_path)\n",
    "            image = img_to_array(image)\n",
    "            X.append(image)\n",
    "            y.append(directory)"
   ]
  },
  {
   "cell_type": "code",
   "execution_count": 15,
   "id": "aaf88948",
   "metadata": {},
   "outputs": [
    {
     "data": {
      "text/plain": [
       "(224, 224, 3)"
      ]
     },
     "execution_count": 15,
     "metadata": {},
     "output_type": "execute_result"
    }
   ],
   "source": [
    "X[0].shape"
   ]
  },
  {
   "cell_type": "code",
   "execution_count": 16,
   "id": "ca61a056",
   "metadata": {},
   "outputs": [],
   "source": [
    "X = np.array(X, dtype=np.float32) / 225.0"
   ]
  },
  {
   "cell_type": "code",
   "execution_count": 17,
   "id": "f32a1363",
   "metadata": {},
   "outputs": [],
   "source": [
    "X = X.reshape(-1, 224, 224, 3)"
   ]
  },
  {
   "cell_type": "code",
   "execution_count": 18,
   "id": "8496b665",
   "metadata": {},
   "outputs": [],
   "source": [
    "X_train, X_test, y_train, y_test = train_test_split(X, y, test_size=0.2, random_state=4242)"
   ]
  },
  {
   "cell_type": "code",
   "execution_count": 19,
   "id": "c433a7a3",
   "metadata": {},
   "outputs": [],
   "source": [
    "lb = LabelBinarizer()\n",
    "y_train = lb.fit_transform(y_train)\n",
    "y_test = lb.fit_transform(y_test)"
   ]
  },
  {
   "cell_type": "code",
   "execution_count": 21,
   "id": "9e1eb3a9",
   "metadata": {},
   "outputs": [],
   "source": [
    "X_train, X_valid, y_train, y_valid = train_test_split(X_train, y_train, test_size=0.2)"
   ]
  },
  {
   "cell_type": "code",
   "execution_count": 27,
   "id": "b8ac9755",
   "metadata": {},
   "outputs": [],
   "source": [
    "model = Sequential([\n",
    "    Conv2D(8, (3,3), input_shape=(224, 224, 3), activation=\"relu\"),\n",
    "    MaxPooling2D((3,3)),\n",
    "    \n",
    "    Conv2D(16, (3,3), activation=\"relu\"),\n",
    "    MaxPooling2D((3,3)),\n",
    "    \n",
    "    Conv2D(32, (3,3), activation=\"relu\"),\n",
    "    MaxPooling2D((3,3)),\n",
    "    \n",
    "    Flatten(),\n",
    "    \n",
    "    Dense(32, activation=\"relu\"),\n",
    "    Dense(3, activation=\"softmax\")\n",
    "])"
   ]
  },
  {
   "cell_type": "code",
   "execution_count": 28,
   "id": "c6378753",
   "metadata": {},
   "outputs": [
    {
     "name": "stdout",
     "output_type": "stream",
     "text": [
      "Model: \"sequential_1\"\n",
      "_________________________________________________________________\n",
      " Layer (type)                Output Shape              Param #   \n",
      "=================================================================\n",
      " conv2d_3 (Conv2D)           (None, 222, 222, 8)       224       \n",
      "                                                                 \n",
      " max_pooling2d_3 (MaxPooling  (None, 74, 74, 8)        0         \n",
      " 2D)                                                             \n",
      "                                                                 \n",
      " conv2d_4 (Conv2D)           (None, 72, 72, 16)        1168      \n",
      "                                                                 \n",
      " max_pooling2d_4 (MaxPooling  (None, 24, 24, 16)       0         \n",
      " 2D)                                                             \n",
      "                                                                 \n",
      " conv2d_5 (Conv2D)           (None, 22, 22, 32)        4640      \n",
      "                                                                 \n",
      " max_pooling2d_5 (MaxPooling  (None, 7, 7, 32)         0         \n",
      " 2D)                                                             \n",
      "                                                                 \n",
      " flatten_1 (Flatten)         (None, 1568)              0         \n",
      "                                                                 \n",
      " dense_2 (Dense)             (None, 32)                50208     \n",
      "                                                                 \n",
      " dense_3 (Dense)             (None, 3)                 99        \n",
      "                                                                 \n",
      "=================================================================\n",
      "Total params: 56,339\n",
      "Trainable params: 56,339\n",
      "Non-trainable params: 0\n",
      "_________________________________________________________________\n"
     ]
    }
   ],
   "source": [
    "model.summary()"
   ]
  },
  {
   "cell_type": "code",
   "execution_count": 29,
   "id": "af7bcd3c",
   "metadata": {},
   "outputs": [],
   "source": [
    "model.compile(loss=\"categorical_crossentropy\", optimizer=Adam(0.0001), metrics=[\"accuracy\"])"
   ]
  },
  {
   "cell_type": "code",
   "execution_count": 30,
   "id": "c256abec",
   "metadata": {},
   "outputs": [
    {
     "name": "stdout",
     "output_type": "stream",
     "text": [
      "Epoch 1/50\n",
      "3/3 [==============================] - 1s 405ms/step - loss: 1.0849 - accuracy: 0.3512 - val_loss: 1.0771 - val_accuracy: 0.4048\n",
      "Epoch 2/50\n",
      "3/3 [==============================] - 1s 346ms/step - loss: 1.0768 - accuracy: 0.3512 - val_loss: 1.0681 - val_accuracy: 0.4048\n",
      "Epoch 3/50\n",
      "3/3 [==============================] - 1s 357ms/step - loss: 1.0701 - accuracy: 0.3512 - val_loss: 1.0604 - val_accuracy: 0.4048\n",
      "Epoch 4/50\n",
      "3/3 [==============================] - 1s 354ms/step - loss: 1.0641 - accuracy: 0.3512 - val_loss: 1.0536 - val_accuracy: 0.4048\n",
      "Epoch 5/50\n",
      "3/3 [==============================] - 1s 365ms/step - loss: 1.0586 - accuracy: 0.3512 - val_loss: 1.0459 - val_accuracy: 0.4048\n",
      "Epoch 6/50\n",
      "3/3 [==============================] - 1s 358ms/step - loss: 1.0520 - accuracy: 0.3512 - val_loss: 1.0388 - val_accuracy: 0.4048\n",
      "Epoch 7/50\n",
      "3/3 [==============================] - 1s 350ms/step - loss: 1.0461 - accuracy: 0.3542 - val_loss: 1.0317 - val_accuracy: 0.4048\n",
      "Epoch 8/50\n",
      "3/3 [==============================] - 1s 361ms/step - loss: 1.0386 - accuracy: 0.3661 - val_loss: 1.0258 - val_accuracy: 0.4167\n",
      "Epoch 9/50\n",
      "3/3 [==============================] - 1s 430ms/step - loss: 1.0309 - accuracy: 0.4077 - val_loss: 1.0199 - val_accuracy: 0.4643\n",
      "Epoch 10/50\n",
      "3/3 [==============================] - 1s 389ms/step - loss: 1.0226 - accuracy: 0.4464 - val_loss: 1.0137 - val_accuracy: 0.5476\n",
      "Epoch 11/50\n",
      "3/3 [==============================] - 1s 353ms/step - loss: 1.0138 - accuracy: 0.4792 - val_loss: 1.0067 - val_accuracy: 0.5595\n",
      "Epoch 12/50\n",
      "3/3 [==============================] - 1s 347ms/step - loss: 1.0046 - accuracy: 0.4940 - val_loss: 0.9983 - val_accuracy: 0.5833\n",
      "Epoch 13/50\n",
      "3/3 [==============================] - 1s 359ms/step - loss: 0.9944 - accuracy: 0.5089 - val_loss: 0.9892 - val_accuracy: 0.5952\n",
      "Epoch 14/50\n",
      "3/3 [==============================] - 1s 369ms/step - loss: 0.9843 - accuracy: 0.5327 - val_loss: 0.9791 - val_accuracy: 0.5952\n",
      "Epoch 15/50\n",
      "3/3 [==============================] - 1s 352ms/step - loss: 0.9725 - accuracy: 0.5446 - val_loss: 0.9701 - val_accuracy: 0.6190\n",
      "Epoch 16/50\n",
      "3/3 [==============================] - 1s 367ms/step - loss: 0.9606 - accuracy: 0.5774 - val_loss: 0.9594 - val_accuracy: 0.6310\n",
      "Epoch 17/50\n",
      "3/3 [==============================] - 1s 361ms/step - loss: 0.9484 - accuracy: 0.5833 - val_loss: 0.9477 - val_accuracy: 0.6310\n",
      "Epoch 18/50\n",
      "3/3 [==============================] - 1s 351ms/step - loss: 0.9353 - accuracy: 0.5952 - val_loss: 0.9351 - val_accuracy: 0.6310\n",
      "Epoch 19/50\n",
      "3/3 [==============================] - 1s 352ms/step - loss: 0.9214 - accuracy: 0.6131 - val_loss: 0.9235 - val_accuracy: 0.6429\n",
      "Epoch 20/50\n",
      "3/3 [==============================] - 1s 354ms/step - loss: 0.9069 - accuracy: 0.6339 - val_loss: 0.9129 - val_accuracy: 0.6548\n",
      "Epoch 21/50\n",
      "3/3 [==============================] - 1s 349ms/step - loss: 0.8918 - accuracy: 0.6399 - val_loss: 0.9000 - val_accuracy: 0.6667\n",
      "Epoch 22/50\n",
      "3/3 [==============================] - 1s 345ms/step - loss: 0.8761 - accuracy: 0.6548 - val_loss: 0.8861 - val_accuracy: 0.6667\n",
      "Epoch 23/50\n",
      "3/3 [==============================] - 1s 348ms/step - loss: 0.8594 - accuracy: 0.6756 - val_loss: 0.8696 - val_accuracy: 0.6667\n",
      "Epoch 24/50\n",
      "3/3 [==============================] - 1s 347ms/step - loss: 0.8433 - accuracy: 0.6756 - val_loss: 0.8539 - val_accuracy: 0.6786\n",
      "Epoch 25/50\n",
      "3/3 [==============================] - 1s 347ms/step - loss: 0.8266 - accuracy: 0.6905 - val_loss: 0.8399 - val_accuracy: 0.7381\n",
      "Epoch 26/50\n",
      "3/3 [==============================] - 1s 345ms/step - loss: 0.8108 - accuracy: 0.7024 - val_loss: 0.8308 - val_accuracy: 0.7262\n",
      "Epoch 27/50\n",
      "3/3 [==============================] - 1s 347ms/step - loss: 0.7919 - accuracy: 0.7143 - val_loss: 0.8132 - val_accuracy: 0.7262\n",
      "Epoch 28/50\n",
      "3/3 [==============================] - 1s 346ms/step - loss: 0.7732 - accuracy: 0.7173 - val_loss: 0.7944 - val_accuracy: 0.7381\n",
      "Epoch 29/50\n",
      "3/3 [==============================] - 1s 348ms/step - loss: 0.7561 - accuracy: 0.7083 - val_loss: 0.7765 - val_accuracy: 0.7262\n",
      "Epoch 30/50\n",
      "3/3 [==============================] - 1s 349ms/step - loss: 0.7392 - accuracy: 0.7143 - val_loss: 0.7647 - val_accuracy: 0.7143\n",
      "Epoch 31/50\n",
      "3/3 [==============================] - 1s 346ms/step - loss: 0.7234 - accuracy: 0.7143 - val_loss: 0.7512 - val_accuracy: 0.7262\n",
      "Epoch 32/50\n",
      "3/3 [==============================] - 1s 349ms/step - loss: 0.7069 - accuracy: 0.7321 - val_loss: 0.7404 - val_accuracy: 0.7500\n",
      "Epoch 33/50\n",
      "3/3 [==============================] - 1s 348ms/step - loss: 0.6916 - accuracy: 0.7530 - val_loss: 0.7303 - val_accuracy: 0.7619\n",
      "Epoch 34/50\n",
      "3/3 [==============================] - 1s 349ms/step - loss: 0.6784 - accuracy: 0.7619 - val_loss: 0.7170 - val_accuracy: 0.7857\n",
      "Epoch 35/50\n",
      "3/3 [==============================] - 1s 348ms/step - loss: 0.6643 - accuracy: 0.7560 - val_loss: 0.6980 - val_accuracy: 0.7381\n",
      "Epoch 36/50\n",
      "3/3 [==============================] - 1s 348ms/step - loss: 0.6527 - accuracy: 0.7500 - val_loss: 0.6856 - val_accuracy: 0.7381\n",
      "Epoch 37/50\n",
      "3/3 [==============================] - 1s 349ms/step - loss: 0.6376 - accuracy: 0.7560 - val_loss: 0.6825 - val_accuracy: 0.7857\n",
      "Epoch 38/50\n",
      "3/3 [==============================] - 1s 349ms/step - loss: 0.6260 - accuracy: 0.7679 - val_loss: 0.6749 - val_accuracy: 0.7738\n",
      "Epoch 39/50\n",
      "3/3 [==============================] - 1s 348ms/step - loss: 0.6152 - accuracy: 0.7708 - val_loss: 0.6620 - val_accuracy: 0.7857\n",
      "Epoch 40/50\n",
      "3/3 [==============================] - 1s 350ms/step - loss: 0.6033 - accuracy: 0.7827 - val_loss: 0.6462 - val_accuracy: 0.7857\n",
      "Epoch 41/50\n",
      "3/3 [==============================] - 1s 351ms/step - loss: 0.5941 - accuracy: 0.7679 - val_loss: 0.6423 - val_accuracy: 0.7857\n",
      "Epoch 42/50\n",
      "3/3 [==============================] - 1s 350ms/step - loss: 0.5832 - accuracy: 0.7708 - val_loss: 0.6326 - val_accuracy: 0.7976\n",
      "Epoch 43/50\n",
      "3/3 [==============================] - 1s 359ms/step - loss: 0.5742 - accuracy: 0.7708 - val_loss: 0.6250 - val_accuracy: 0.7857\n",
      "Epoch 44/50\n",
      "3/3 [==============================] - 1s 359ms/step - loss: 0.5642 - accuracy: 0.7768 - val_loss: 0.6250 - val_accuracy: 0.7857\n",
      "Epoch 45/50\n",
      "3/3 [==============================] - 1s 362ms/step - loss: 0.5586 - accuracy: 0.7917 - val_loss: 0.6242 - val_accuracy: 0.7857\n",
      "Epoch 46/50\n",
      "3/3 [==============================] - 1s 359ms/step - loss: 0.5474 - accuracy: 0.8036 - val_loss: 0.6071 - val_accuracy: 0.7857\n",
      "Epoch 47/50\n",
      "3/3 [==============================] - 1s 357ms/step - loss: 0.5427 - accuracy: 0.7857 - val_loss: 0.5975 - val_accuracy: 0.7857\n",
      "Epoch 48/50\n",
      "3/3 [==============================] - 1s 363ms/step - loss: 0.5340 - accuracy: 0.7738 - val_loss: 0.5980 - val_accuracy: 0.7857\n",
      "Epoch 49/50\n",
      "3/3 [==============================] - 1s 358ms/step - loss: 0.5262 - accuracy: 0.7887 - val_loss: 0.5988 - val_accuracy: 0.7857\n",
      "Epoch 50/50\n",
      "3/3 [==============================] - 1s 358ms/step - loss: 0.5210 - accuracy: 0.7976 - val_loss: 0.6012 - val_accuracy: 0.7976\n"
     ]
    }
   ],
   "source": [
    "history = model.fit(X_train, y_train, batch_size=128, epochs=50, validation_data=(X_valid, y_valid))"
   ]
  },
  {
   "cell_type": "code",
   "execution_count": 33,
   "id": "c2e09eba",
   "metadata": {},
   "outputs": [
    {
     "name": "stdout",
     "output_type": "stream",
     "text": [
      "4/4 [==============================] - 0s 30ms/step - loss: 0.5916 - accuracy: 0.7429\n",
      "Test Accuracy: 74.29\n"
     ]
    }
   ],
   "source": [
    "scores = model.evaluate(X_test, y_test)\n",
    "scores = round((scores[1] * 100), 2)\n",
    "print(\"Test Accuracy:\", scores)"
   ]
  },
  {
   "cell_type": "code",
   "execution_count": 34,
   "id": "865f2dbb",
   "metadata": {},
   "outputs": [
    {
     "name": "stdout",
     "output_type": "stream",
     "text": [
      "4/4 [==============================] - 0s 29ms/step\n"
     ]
    }
   ],
   "source": [
    "y_pred = model.predict(X_test)"
   ]
  },
  {
   "cell_type": "code",
   "execution_count": 35,
   "id": "e8ea5615",
   "metadata": {},
   "outputs": [
    {
     "name": "stdout",
     "output_type": "stream",
     "text": [
      "Originally:  CREAM COLORED WOODPECKER\n",
      "Predicted: CREAM COLORED WOODPECKER\n"
     ]
    }
   ],
   "source": [
    "print(\"Originally: \", root_dir[np.argmax(y_test[1])])\n",
    "print(\"Predicted:\" , root_dir[np.argmax(y_pred[1])])"
   ]
  },
  {
   "cell_type": "code",
   "execution_count": 36,
   "id": "713adb3a",
   "metadata": {},
   "outputs": [
    {
     "data": {
      "image/png": "[encoded data removed]",
      "text/plain": [
       "<Figure size 640x480 with 1 Axes>"
      ]
     },
     "metadata": {},
     "output_type": "display_data"
    }
   ],
   "source": [
    "plt.figure()\n",
    "plt.plot(history.history[\"accuracy\"])\n",
    "plt.plot(history.history[\"val_accuracy\"])\n",
    "plt.title(\"Model Accuracy\")\n",
    "plt.xlabel(\"Epochs\")\n",
    "plt.ylabel(\"Accuracy\")\n",
    "plt.legend([\"train\", \"val\"])\n",
    "plt.show()"
   ]
  },
  {
   "cell_type": "code",
   "execution_count": 37,
   "id": "3720c94b",
   "metadata": {},
   "outputs": [
    {
     "data": {
      "image/png": "[encoded data removed]",
      "text/plain": [
       "<Figure size 640x480 with 1 Axes>"
      ]
     },
     "metadata": {},
     "output_type": "display_data"
    }
   ],
   "source": [
    "plt.figure()\n",
    "plt.plot(history.history[\"accuracy\"])\n",
    "plt.plot(history.history[\"val_accuracy\"])\n",
    "plt.title(\"Model Accuracy\")\n",
    "plt.xlabel(\"Epochs\")\n",
    "plt.ylabel(\"Accuracy\")\n",
    "plt.legend([\"train\", \"val\"])\n",
    "plt.show()"
   ]
  },
  {
   "cell_type": "code",
   "execution_count": 38,
   "id": "5a087734",
   "metadata": {},
   "outputs": [],
   "source": [
    "model.save(\"BirdSpeciesPrediction.h5\")"
   ]
  },
  {
   "cell_type": "code",
   "execution_count": 41,
   "id": "1ce3bce6",
   "metadata": {},
   "outputs": [
    {
     "name": "stdout",
     "output_type": "stream",
     "text": [
      "74 %\n"
     ]
    }
   ],
   "source": [
    "count = 0\n",
    "for i in range(1, 100):\n",
    "    if root_dir[np.argmax(y_test[i])] == root_dir[np.argmax(y_pred[i])]:\n",
    "        count += 1\n",
    "        \n",
    "print(count , \"%\")"
   ]
  },
  {
   "cell_type": "code",
   "execution_count": null,
   "id": "829da05f",
   "metadata": {},
   "outputs": [],
   "source": []
  }
 ],
 "metadata": {
  "kernelspec": {
   "display_name": "Python 3 (ipykernel)",
   "language": "python",
   "name": "python3"
  },
  "language_info": {
   "codemirror_mode": {
    "name": "ipython",
    "version": 3
   },
   "file_extension": ".py",
   "mimetype": "text/x-python",
   "name": "python",
   "nbconvert_exporter": "python",
   "pygments_lexer": "ipython3",
   "version": "3.8.16"
  }
 },
 "nbformat": 4,
 "nbformat_minor": 5
}
